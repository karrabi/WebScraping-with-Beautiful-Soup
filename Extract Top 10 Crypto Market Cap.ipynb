{
 "cells": [
  {
   "cell_type": "code",
   "execution_count": 1,
   "id": "933b16eb",
   "metadata": {},
   "outputs": [],
   "source": [
    "from bs4 import BeautifulSoup\n",
    "import requests\n",
    "import pandas as pd"
   ]
  },
  {
   "cell_type": "code",
   "execution_count": 2,
   "id": "8ef2774e",
   "metadata": {},
   "outputs": [],
   "source": [
    "URL = 'https://coinmarketcap.com/coins/'"
   ]
  },
  {
   "cell_type": "code",
   "execution_count": 3,
   "id": "cfd51764",
   "metadata": {},
   "outputs": [],
   "source": [
    "headers = {\"User-Agent\": \"Mozilla/5.0 (Windows NT 10.0; Win64; x64) AppleWebKit/537.36 (KHTML, like Gecko) Chrome/78.0.3904.108 Safari/537.36\", \"Accept-Encoding\":\"gzip, deflate\", \"Accept\":\"text/html,application/xhtml+xml,application/xml;q=0.9,*/*;q=0.8\", \"DNT\":\"1\",\"Connection\":\"close\", \"Upgrade-Insecure-Requests\":\"1\"}"
   ]
  },
  {
   "cell_type": "code",
   "execution_count": 4,
   "id": "69ee68ef",
   "metadata": {},
   "outputs": [],
   "source": [
    "page = requests.get(URL, headers=headers)"
   ]
  },
  {
   "cell_type": "code",
   "execution_count": 5,
   "id": "ae0541c1",
   "metadata": {},
   "outputs": [],
   "source": [
    "soup1 = BeautifulSoup(page.content, \"html.parser\")"
   ]
  },
  {
   "cell_type": "code",
   "execution_count": 6,
   "id": "cc38d526",
   "metadata": {},
   "outputs": [],
   "source": [
    "soup2 = BeautifulSoup(soup1.prettify(), \"html.parser\")"
   ]
  },
  {
   "cell_type": "code",
   "execution_count": 7,
   "id": "4cf7de19",
   "metadata": {},
   "outputs": [],
   "source": [
    "row_numbers = soup2.find_all(\"p\", {\"class\" : \"sc-e225a64a-0 hHLLiH\"})\n",
    "names = soup2.find_all(\"p\", {\"class\" : \"sc-e225a64a-0 ePTNty\"})\n",
    "Prices = soup2.find_all(\"div\", {\"class\" : \"sc-8bda0120-0 dskdZn\"})\n",
    "MarketCaps = soup2.find_all(\"p\", {\"class\" : \"sc-e225a64a-0 gLNGkf\"})\n",
    "Volume24Amounts = soup2.find_all(\"p\", {\"class\" : \"sc-e225a64a-0 gLNGkf font_weight_500\"})\n",
    "Volume24Qtys = soup2.find_all(\"p\", {\"class\" : \"sc-e225a64a-0 hHLLiH\"})\n",
    "CirculatingSupplys = soup2.find_all(\"p\", {\"class\" : \"sc-e225a64a-0 izpQLd\"})\n"
   ]
  },
  {
   "cell_type": "code",
   "execution_count": 8,
   "id": "8b2a6ed5",
   "metadata": {},
   "outputs": [],
   "source": [
    "row_numbers = row_numbers[1:]\n",
    "df = pd.DataFrame()"
   ]
  },
  {
   "cell_type": "code",
   "execution_count": 9,
   "id": "32fe5a7b",
   "metadata": {},
   "outputs": [],
   "source": [
    "_rows = []\n",
    "_volume24Qtys = []\n",
    "for row_number in row_numbers:\n",
    "    data = row_number.text.split()\n",
    "    if len(data) == 1:\n",
    "        _rows.append(' '.join(data))\n",
    "    else:\n",
    "        _volume24Qtys.append(' '.join(data))\n",
    "            \n",
    "df['row'] = _rows\n",
    "df['volume24qty'] = _volume24Qtys"
   ]
  },
  {
   "cell_type": "code",
   "execution_count": 10,
   "id": "c48791f8",
   "metadata": {},
   "outputs": [],
   "source": [
    "_names = []\n",
    "for name in names:\n",
    "    _names.append(name.text.strip())\n",
    "\n",
    "df['name'] = _names"
   ]
  },
  {
   "cell_type": "code",
   "execution_count": 11,
   "id": "22a0bc56",
   "metadata": {},
   "outputs": [],
   "source": [
    "_prices = []\n",
    "for Price in Prices:\n",
    "    _prices.append(Price.text.strip())\n",
    "    \n",
    "df['price'] = _prices"
   ]
  },
  {
   "cell_type": "code",
   "execution_count": 12,
   "id": "71748ab8",
   "metadata": {},
   "outputs": [],
   "source": [
    "_marketcaps = []\n",
    "MarketCaps = MarketCaps[1:-1]\n",
    "for MarketCap in MarketCaps:\n",
    "    _marketcaps.append(MarketCap.text.split()[1])\n",
    "\n",
    "df['marketcap'] = _marketcaps"
   ]
  },
  {
   "cell_type": "code",
   "execution_count": 13,
   "id": "24aebefa",
   "metadata": {},
   "outputs": [],
   "source": [
    "_amounts = []\n",
    "for Volume24Amount in Volume24Amounts:\n",
    "    _amounts.append(Volume24Amount.text.strip())\n",
    "    \n",
    "df['volume24amount'] = _amounts"
   ]
  },
  {
   "cell_type": "code",
   "execution_count": 14,
   "id": "2a3812a9",
   "metadata": {},
   "outputs": [],
   "source": [
    "_circulatingsupplys = []\n",
    "\n",
    "for CirculatingSupply in CirculatingSupplys:\n",
    "    _circulatingsupplys.append(' '.join(CirculatingSupply.text.split()))\n",
    "    \n",
    "df['circulatingsupply'] = _circulatingsupplys"
   ]
  },
  {
   "cell_type": "code",
   "execution_count": 15,
   "id": "86e78d5a",
   "metadata": {},
   "outputs": [],
   "source": [
    "columns = ['row', 'name', 'price', 'marketcap', 'volume24qty', 'volume24amount', 'circulatingsupply']\n",
    "df = df[columns]"
   ]
  },
  {
   "cell_type": "code",
   "execution_count": 16,
   "id": "a9d881aa",
   "metadata": {},
   "outputs": [
    {
     "data": {
      "text/html": [
       "<div>\n",
       "<style scoped>\n",
       "    .dataframe tbody tr th:only-of-type {\n",
       "        vertical-align: middle;\n",
       "    }\n",
       "\n",
       "    .dataframe tbody tr th {\n",
       "        vertical-align: top;\n",
       "    }\n",
       "\n",
       "    .dataframe thead th {\n",
       "        text-align: right;\n",
       "    }\n",
       "</style>\n",
       "<table border=\"1\" class=\"dataframe\">\n",
       "  <thead>\n",
       "    <tr style=\"text-align: right;\">\n",
       "      <th></th>\n",
       "      <th>row</th>\n",
       "      <th>name</th>\n",
       "      <th>price</th>\n",
       "      <th>marketcap</th>\n",
       "      <th>volume24qty</th>\n",
       "      <th>volume24amount</th>\n",
       "      <th>circulatingsupply</th>\n",
       "    </tr>\n",
       "  </thead>\n",
       "  <tbody>\n",
       "    <tr>\n",
       "      <th>0</th>\n",
       "      <td>1</td>\n",
       "      <td>Bitcoin</td>\n",
       "      <td>$27,207.08</td>\n",
       "      <td>$525,885,590,388</td>\n",
       "      <td>1,190,416 BTC</td>\n",
       "      <td>$32,400,119,131</td>\n",
       "      <td>19,321,612 BTC</td>\n",
       "    </tr>\n",
       "    <tr>\n",
       "      <th>1</th>\n",
       "      <td>2</td>\n",
       "      <td>Ethereum</td>\n",
       "      <td>$1,782.45</td>\n",
       "      <td>$218,177,542,972</td>\n",
       "      <td>5,045,846 ETH</td>\n",
       "      <td>$8,996,121,981</td>\n",
       "      <td>122,373,866 ETH</td>\n",
       "    </tr>\n",
       "    <tr>\n",
       "      <th>2</th>\n",
       "      <td>3</td>\n",
       "      <td>Tether</td>\n",
       "      <td>$1.00</td>\n",
       "      <td>$76,406,555,771</td>\n",
       "      <td>42,128,512,996 USDT</td>\n",
       "      <td>$42,231,164,799</td>\n",
       "      <td>76,220,833,431 USDT</td>\n",
       "    </tr>\n",
       "    <tr>\n",
       "      <th>3</th>\n",
       "      <td>4</td>\n",
       "      <td>BNB</td>\n",
       "      <td>$334.07</td>\n",
       "      <td>$52,748,715,719</td>\n",
       "      <td>2,206,345 BNB</td>\n",
       "      <td>$737,101,198</td>\n",
       "      <td>157,891,278 BNB</td>\n",
       "    </tr>\n",
       "    <tr>\n",
       "      <th>4</th>\n",
       "      <td>5</td>\n",
       "      <td>USD Coin</td>\n",
       "      <td>$0.9996</td>\n",
       "      <td>$36,230,194,946</td>\n",
       "      <td>4,320,638,146 USDC</td>\n",
       "      <td>$4,318,852,910</td>\n",
       "      <td>36,245,171,016 USDC</td>\n",
       "    </tr>\n",
       "    <tr>\n",
       "      <th>5</th>\n",
       "      <td>6</td>\n",
       "      <td>XRP</td>\n",
       "      <td>$0.3779</td>\n",
       "      <td>$19,254,584,040</td>\n",
       "      <td>1,902,555,060 XRP</td>\n",
       "      <td>$718,984,296</td>\n",
       "      <td>50,950,912,949 XRP</td>\n",
       "    </tr>\n",
       "    <tr>\n",
       "      <th>6</th>\n",
       "      <td>7</td>\n",
       "      <td>Cardano</td>\n",
       "      <td>$0.3426</td>\n",
       "      <td>$11,891,397,453</td>\n",
       "      <td>887,829,100 ADA</td>\n",
       "      <td>$304,177,837</td>\n",
       "      <td>34,708,408,721 ADA</td>\n",
       "    </tr>\n",
       "    <tr>\n",
       "      <th>7</th>\n",
       "      <td>8</td>\n",
       "      <td>Polygon</td>\n",
       "      <td>$1.20</td>\n",
       "      <td>$10,443,134,489</td>\n",
       "      <td>382,981,467 MATIC</td>\n",
       "      <td>$457,909,502</td>\n",
       "      <td>8,734,317,475 MATIC</td>\n",
       "    </tr>\n",
       "    <tr>\n",
       "      <th>8</th>\n",
       "      <td>9</td>\n",
       "      <td>Dogecoin</td>\n",
       "      <td>$0.07478</td>\n",
       "      <td>$9,921,658,126</td>\n",
       "      <td>5,652,425,724 DOGE</td>\n",
       "      <td>$422,711,333</td>\n",
       "      <td>132,670,764,300 DOGE</td>\n",
       "    </tr>\n",
       "    <tr>\n",
       "      <th>9</th>\n",
       "      <td>10</td>\n",
       "      <td>Solana</td>\n",
       "      <td>$21.80</td>\n",
       "      <td>$8,359,530,949</td>\n",
       "      <td>26,900,843 SOL</td>\n",
       "      <td>$586,408,991</td>\n",
       "      <td>383,483,932 SOL</td>\n",
       "    </tr>\n",
       "  </tbody>\n",
       "</table>\n",
       "</div>"
      ],
      "text/plain": [
       "  row      name       price         marketcap          volume24qty  \\\n",
       "0   1   Bitcoin  $27,207.08  $525,885,590,388        1,190,416 BTC   \n",
       "1   2  Ethereum   $1,782.45  $218,177,542,972        5,045,846 ETH   \n",
       "2   3    Tether       $1.00   $76,406,555,771  42,128,512,996 USDT   \n",
       "3   4       BNB     $334.07   $52,748,715,719        2,206,345 BNB   \n",
       "4   5  USD Coin     $0.9996   $36,230,194,946   4,320,638,146 USDC   \n",
       "5   6       XRP     $0.3779   $19,254,584,040    1,902,555,060 XRP   \n",
       "6   7   Cardano     $0.3426   $11,891,397,453      887,829,100 ADA   \n",
       "7   8   Polygon       $1.20   $10,443,134,489    382,981,467 MATIC   \n",
       "8   9  Dogecoin    $0.07478    $9,921,658,126   5,652,425,724 DOGE   \n",
       "9  10    Solana      $21.80    $8,359,530,949       26,900,843 SOL   \n",
       "\n",
       "    volume24amount     circulatingsupply  \n",
       "0  $32,400,119,131        19,321,612 BTC  \n",
       "1   $8,996,121,981       122,373,866 ETH  \n",
       "2  $42,231,164,799   76,220,833,431 USDT  \n",
       "3     $737,101,198       157,891,278 BNB  \n",
       "4   $4,318,852,910   36,245,171,016 USDC  \n",
       "5     $718,984,296    50,950,912,949 XRP  \n",
       "6     $304,177,837    34,708,408,721 ADA  \n",
       "7     $457,909,502   8,734,317,475 MATIC  \n",
       "8     $422,711,333  132,670,764,300 DOGE  \n",
       "9     $586,408,991       383,483,932 SOL  "
      ]
     },
     "execution_count": 16,
     "metadata": {},
     "output_type": "execute_result"
    }
   ],
   "source": [
    "df"
   ]
  },
  {
   "cell_type": "code",
   "execution_count": null,
   "id": "7508e286",
   "metadata": {},
   "outputs": [],
   "source": []
  }
 ],
 "metadata": {
  "kernelspec": {
   "display_name": "Python 3 (ipykernel)",
   "language": "python",
   "name": "python3"
  },
  "language_info": {
   "codemirror_mode": {
    "name": "ipython",
    "version": 3
   },
   "file_extension": ".py",
   "mimetype": "text/x-python",
   "name": "python",
   "nbconvert_exporter": "python",
   "pygments_lexer": "ipython3",
   "version": "3.11.2"
  }
 },
 "nbformat": 4,
 "nbformat_minor": 5
}
